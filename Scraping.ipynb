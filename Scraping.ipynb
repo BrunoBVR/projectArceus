{
 "cells": [
  {
   "cell_type": "code",
   "execution_count": 4,
   "id": "f2792b94-2495-4e7a-8018-6354cec2ee41",
   "metadata": {},
   "outputs": [],
   "source": [
    "import pandas as pd\n",
    "from requests_html import HTMLSession"
   ]
  },
  {
   "cell_type": "code",
   "execution_count": 5,
   "id": "78f86862-0faf-44e8-82e1-9e803811a726",
   "metadata": {},
   "outputs": [
    {
     "name": "stdout",
     "output_type": "stream",
     "text": [
      "['/user/pabswikk', '/user/okamimiyazaki', '/user/vbueso', '/user/neomew', '/user/Spino', '/user/Delta46', '/user/maticio03', '/user/steventohare', '/user/gecko_9', '/user/rodrigobarg', '/user/Starlord', '/user/KrakenAttack', '/user/SilexEco', '/user/gordox74', '/user/Ocosu', '/user/Sonic5202', '/user/peachyorwhat', '/user/Watson17k', '/user/TheGoomba', '/user/abvilla', '/user/Luitondo', '/user/lolhhh', '/user/Urdrak', '/user/BlackCatZ', '/user/marvelousmarien', '/user/hkjhkjh', '/user/Andi16ID', '/user/SuperRon', '/user/Federx', '/user/Plkll', '/user/aespin4', '/user/FanFreak777', '/user/NinnyMugginz', '/user/BoyEx7490et', '/user/HorusVenus1210', '/user/ElZarco', '/user/gregory_ya', '/user/Luxhian', '/user/roychen', '/user/iqreyesg', '/user/Stay_schwifty', '/user/triogals', '/user/Jamitboi', '/user/AskMeToReview', '/user/MechZahnSlayer', '/user/yic191', '/user/Gamexss', '/user/Turndown4hwut', '/user/teafan011', '/user/Kafkan', '/user/NuclearPhoenix', '/user/kuiriz', '/user/Juanktaka01', '/user/Solar8010', '/user/VirgoCave', '/user/B4R4T4', '/user/SRif', '/user/TalionSwift', '/user/NEVROLOG', '/user/Alacazoom', '/user/Johnnybravo8125', '/user/GenkiYokota', '/user/Codarius', '/user/Mickey777', '/user/Raikou', '/user/jakemoxx', '/user/Atreyix', '/user/DanHlrzr', '/user/Dreamscanner', '/user/Dieg', '/user/HyperCynder7', '/user/Armexjudgex', '/user/theodoros_patt', '/user/SSZ', '/user/doubledd1403', '/user/samuellsilva', '/user/RhysO92', '/user/Franri', '/user/Jakey92', '/user/Fabiosimba', '/user/Frederico98', '/user/gabrieuum', '/user/PokemonMasterPM', '/user/Daitya', '/user/Quetzalty', '/user/Javi665445', '/user/levelupvgw', '/user/Rmccovin2', '/user/Foreignfilmssuc', '/user/Ragnar_san', '/user/El1s0n', '/user/Thebatmaster', '/user/AmazingBanana', '/user/SPARKisnumber1', '/user/SebbySp', '/user/CrisSonic_Drago', '/user/Tatsuya7', '/user/Henriquetn', '/user/Red_Meridian', '/user/sheep255174']\n",
      "100\n"
     ]
    }
   ],
   "source": [
    "## Getting user links (to see number of games reviewd and average review)\n",
    "\n",
    "s = HTMLSession()\n",
    "\n",
    "base_url = 'https://www.metacritic.com/'\n",
    "\n",
    "page = 0\n",
    "url = f'https://www.metacritic.com/game/switch/pokemon-legends-arceus/user-reviews?sort-by=score&num_items=100&page={page}'\n",
    "\n",
    "r = s.get(url)\n",
    "\n",
    "users = r.html.find('div.name')\n",
    "links = []\n",
    "for user in users:\n",
    "    links.append(user.find('a', first=True).attrs['href'])\n",
    "\n",
    "\n",
    "print(links)\n",
    "print(len(links))"
   ]
  },
  {
   "cell_type": "code",
   "execution_count": 6,
   "id": "158fb445-f1a6-4a04-a7a2-9fdacf7a90a5",
   "metadata": {},
   "outputs": [
    {
     "name": "stdout",
     "output_type": "stream",
     "text": [
      "100\n"
     ]
    }
   ],
   "source": [
    "## Getting review content\n",
    "\n",
    "\n",
    "s = HTMLSession()\n",
    "\n",
    "base_url = 'https://www.metacritic.com'\n",
    "\n",
    "page = 0\n",
    "url = f'https://www.metacritic.com/game/switch/pokemon-legends-arceus/user-reviews?sort-by=score&num_items=100&page={page}'\n",
    "\n",
    "r = s.get(url)\n",
    "\n",
    "reviews = r.html.find('li.review.user_review')\n",
    "# links = []\n",
    "# for user in users:\n",
    "#     links.append(user.find('a', first=True).attrs['href'])\n",
    "\n",
    "print(len(reviews))\n"
   ]
  },
  {
   "cell_type": "code",
   "execution_count": 7,
   "id": "8a27826e-8b4e-48a8-986e-db5f57f9bc28",
   "metadata": {},
   "outputs": [],
   "source": [
    "#main > div.partial_wrap > div.module.reviews_module.user_reviews_module > div > ol"
   ]
  },
  {
   "cell_type": "code",
   "execution_count": 8,
   "id": "fe90c3d1-9347-44f1-8442-60388e257c42",
   "metadata": {},
   "outputs": [
    {
     "data": {
      "text/plain": [
       "'A fun reinvention of the Pokémon formula, hopefully the next version keeps this change while giving it a better look'"
      ]
     },
     "execution_count": 8,
     "metadata": {},
     "output_type": "execute_result"
    }
   ],
   "source": [
    "reviews[0].find('span')[0].find('span', first=True).text.strip().replace('\\n', '')"
   ]
  },
  {
   "cell_type": "code",
   "execution_count": 9,
   "id": "f488fccf-a6dc-4372-9a9f-01a5277b08e5",
   "metadata": {},
   "outputs": [],
   "source": [
    "#review_blurb_14910427 > span.blurb.blurb_collapsed"
   ]
  },
  {
   "cell_type": "code",
   "execution_count": 10,
   "id": "10467d67-9a38-452a-a4ee-6c38cb734178",
   "metadata": {},
   "outputs": [
    {
     "ename": "AttributeError",
     "evalue": "'NoneType' object has no attribute 'text'",
     "output_type": "error",
     "traceback": [
      "\u001b[0;31m---------------------------------------------------------------------------\u001b[0m",
      "\u001b[0;31mAttributeError\u001b[0m                            Traceback (most recent call last)",
      "\u001b[0;32m/tmp/ipykernel_171500/3098757726.py\u001b[0m in \u001b[0;36m<module>\u001b[0;34m\u001b[0m\n\u001b[1;32m      1\u001b[0m \u001b[0;31m# Review\u001b[0m\u001b[0;34m\u001b[0m\u001b[0;34m\u001b[0m\u001b[0;34m\u001b[0m\u001b[0m\n\u001b[0;32m----> 2\u001b[0;31m \u001b[0mreviews\u001b[0m\u001b[0;34m[\u001b[0m\u001b[0;36m0\u001b[0m\u001b[0;34m]\u001b[0m\u001b[0;34m.\u001b[0m\u001b[0mfind\u001b[0m\u001b[0;34m(\u001b[0m\u001b[0;34m'span.blurb.blurb_expanded'\u001b[0m\u001b[0;34m,\u001b[0m \u001b[0mfirst\u001b[0m\u001b[0;34m=\u001b[0m\u001b[0;32mTrue\u001b[0m\u001b[0;34m)\u001b[0m\u001b[0;34m.\u001b[0m\u001b[0mtext\u001b[0m\u001b[0;34m.\u001b[0m\u001b[0mstrip\u001b[0m\u001b[0;34m(\u001b[0m\u001b[0;34m)\u001b[0m\u001b[0;34m.\u001b[0m\u001b[0mreplace\u001b[0m\u001b[0;34m(\u001b[0m\u001b[0;34m'\\n'\u001b[0m\u001b[0;34m,\u001b[0m \u001b[0;34m''\u001b[0m\u001b[0;34m)\u001b[0m\u001b[0;34m\u001b[0m\u001b[0;34m\u001b[0m\u001b[0m\n\u001b[0m",
      "\u001b[0;31mAttributeError\u001b[0m: 'NoneType' object has no attribute 'text'"
     ]
    }
   ],
   "source": [
    "# Review\n",
    "reviews[0].find('span.blurb.blurb_expanded', first=True).text.strip().replace('\\n', '')"
   ]
  },
  {
   "cell_type": "code",
   "execution_count": 11,
   "id": "8e71911a-8c68-4121-b815-4c7d7ab28571",
   "metadata": {},
   "outputs": [
    {
     "data": {
      "text/plain": [
       "'10'"
      ]
     },
     "execution_count": 11,
     "metadata": {},
     "output_type": "execute_result"
    }
   ],
   "source": [
    "# Score\n",
    "reviews[0].find('div.review_grade', first=True).text.strip().replace('\\n', '')"
   ]
  },
  {
   "cell_type": "code",
   "execution_count": 12,
   "id": "2c20c630-ddce-40f7-8037-d04529d1acf6",
   "metadata": {},
   "outputs": [
    {
     "data": {
      "text/plain": [
       "'Jan 29, 2022'"
      ]
     },
     "execution_count": 12,
     "metadata": {},
     "output_type": "execute_result"
    }
   ],
   "source": [
    "# Date\n",
    "reviews[0].find('div.date', first=True).text.strip().replace('\\n', '')"
   ]
  },
  {
   "cell_type": "code",
   "execution_count": 13,
   "id": "90863c2d-581e-4ab2-b862-2aaad131f924",
   "metadata": {},
   "outputs": [
    {
     "data": {
      "text/plain": [
       "'/user/pabswikk'"
      ]
     },
     "execution_count": 13,
     "metadata": {},
     "output_type": "execute_result"
    }
   ],
   "source": [
    "# Critic link\n",
    "reviews[0].find('div.name', first=True).find('a', first=True).attrs['href']"
   ]
  },
  {
   "cell_type": "code",
   "execution_count": 14,
   "id": "4cf5d3f5-f92b-4e39-a194-38fb5deafd46",
   "metadata": {},
   "outputs": [],
   "source": [
    "user_url = base_url+reviews[0].find('div.name', first=True).find('a', first=True).attrs['href']"
   ]
  },
  {
   "cell_type": "code",
   "execution_count": 15,
   "id": "295d455e-a944-420f-8e21-3d6a99ee282e",
   "metadata": {},
   "outputs": [
    {
     "data": {
      "text/plain": [
       "'49 of 62 users found this helpful'"
      ]
     },
     "execution_count": 15,
     "metadata": {},
     "output_type": "execute_result"
    }
   ],
   "source": [
    "# Helpful\n",
    "reviews[0].find('div.helpful_summary.thumb_count', first=True).text"
   ]
  },
  {
   "cell_type": "code",
   "execution_count": 16,
   "id": "2e36a786-2a19-4777-bfbd-bbf33b9e9b11",
   "metadata": {},
   "outputs": [
    {
     "name": "stdout",
     "output_type": "stream",
     "text": [
      "2 Reviews\n",
      "2 Ratings\n",
      "0.0\n"
     ]
    }
   ],
   "source": [
    "# Getting into user link\n",
    "user_r = s.get(user_url)\n",
    "\n",
    "# number of reviews by user\n",
    "print(user_r.html.find('span.total_summary_reviews', first=True).text)\n",
    "\n",
    "# number of ratings by user\n",
    "print(user_r.html.find('span.total_summary_ratings.mr20', first=True).text)\n",
    "\n",
    "# Average review score\n",
    "print(user_r.html.find('span.summary_data', first=True).text)\n",
    "\n"
   ]
  },
  {
   "cell_type": "code",
   "execution_count": null,
   "id": "7d2cd243-cf07-447f-89e5-48cb72a4cb6b",
   "metadata": {},
   "outputs": [],
   "source": []
  },
  {
   "cell_type": "code",
   "execution_count": null,
   "id": "f7deaaba-4d4f-4738-b943-2133d9ab1007",
   "metadata": {},
   "outputs": [],
   "source": []
  },
  {
   "cell_type": "code",
   "execution_count": 17,
   "id": "5cd297fd-100f-42f9-8d14-47196f9861cc",
   "metadata": {},
   "outputs": [],
   "source": [
    "# Defining functions"
   ]
  },
  {
   "cell_type": "code",
   "execution_count": 18,
   "id": "3df50e4b-6392-4261-b0a0-66fa12f3b361",
   "metadata": {},
   "outputs": [],
   "source": [
    "\n",
    "s = HTMLSession()\n",
    "base_url = 'https://www.metacritic.com'\n",
    "\n",
    "## Getting review content\n",
    "def get_reviews(page):\n",
    "    \n",
    "    url = f'https://www.metacritic.com/game/switch/pokemon-legends-arceus/user-reviews?sort-by=score&num_items=100&page={page}'\n",
    "\n",
    "    r = s.get(url)\n",
    "\n",
    "    reviews = r.html.find('li.review.user_review')\n",
    "    \n",
    "    return reviews"
   ]
  },
  {
   "cell_type": "code",
   "execution_count": 19,
   "id": "d764dcd0-b77c-4420-8756-7eb2acaf92f3",
   "metadata": {},
   "outputs": [],
   "source": [
    "test = get_reviews(0)"
   ]
  },
  {
   "cell_type": "code",
   "execution_count": 20,
   "id": "6a576123-d600-43b4-aa06-a84c4f5b4382",
   "metadata": {},
   "outputs": [
    {
     "data": {
      "text/plain": [
       "100"
      ]
     },
     "execution_count": 20,
     "metadata": {},
     "output_type": "execute_result"
    }
   ],
   "source": [
    "len(test)"
   ]
  },
  {
   "cell_type": "code",
   "execution_count": 21,
   "id": "f1a9a191-2de8-4473-bbd3-e36e31e937e7",
   "metadata": {},
   "outputs": [],
   "source": [
    "# Parsing a review\n",
    "def parse_product(rev):\n",
    "    \n",
    "    # Review\n",
    "    review = rev.find('span', first=True).text.strip().replace('\\n', '')\n",
    "    \n",
    "    # Date\n",
    "    date = rev.find('div.date', first=True).text.strip().replace('\\n', '')\n",
    "    \n",
    "    # Helpful\n",
    "    helpful = rev.find('div.helpful_summary.thumb_count', first=True).text\n",
    "    \n",
    "    # Critic link\n",
    "    user_url = base_url+rev.find('div.name', first=True).find('a', first=True).attrs['href']\n",
    "    \n",
    "    # Getting into user link\n",
    "    user_r = s.get(user_url)\n",
    "\n",
    "    # number of reviews by user\n",
    "    numb_revs = user_r.html.find('span.total_summary_reviews', first=True).text\n",
    "\n",
    "    # number of ratings by user\n",
    "    numb_ratings = user_r.html.find('span.total_summary_ratings.mr20', first=True).text\n",
    "\n",
    "    # Average review score\n",
    "    avg_score = user_r.html.find('span.summary_data', first=True).text\n",
    "    \n",
    "    row = {\n",
    "        'review': review,\n",
    "        'date': date,\n",
    "        'helpful': helpful,\n",
    "        'number_of_reviews': numb_revs,\n",
    "        'number_of_ratings': numb_ratings,\n",
    "        'average_user_score': avg_score,\n",
    "    }\n",
    "    return row"
   ]
  },
  {
   "cell_type": "code",
   "execution_count": 22,
   "id": "2fcbcdf2-aded-4fec-b627-80dbf7f2c6a1",
   "metadata": {},
   "outputs": [],
   "source": [
    "test_row = parse_product(test[0])"
   ]
  },
  {
   "cell_type": "code",
   "execution_count": 23,
   "id": "e85ae077-40c4-4885-95fd-2263b3434c62",
   "metadata": {},
   "outputs": [
    {
     "data": {
      "text/plain": [
       "{'review': 'A fun reinvention of the Pokémon formula, hopefully the next version keeps this change while giving it a better look',\n",
       " 'date': 'Jan 29, 2022',\n",
       " 'helpful': '49 of 62 users found this helpful',\n",
       " 'number_of_reviews': '2 Reviews',\n",
       " 'number_of_ratings': '2 Ratings',\n",
       " 'average_user_score': '0.0'}"
      ]
     },
     "execution_count": 23,
     "metadata": {},
     "output_type": "execute_result"
    }
   ],
   "source": [
    "test_row"
   ]
  },
  {
   "cell_type": "markdown",
   "id": "568516ab-df69-4e06-b1af-504b8140cd37",
   "metadata": {},
   "source": [
    "# Testing on page 1:"
   ]
  },
  {
   "cell_type": "code",
   "execution_count": 24,
   "id": "c8620212-7d9d-444f-8900-66dedf4c90a2",
   "metadata": {},
   "outputs": [],
   "source": [
    "from requests_html import HTMLSession\n",
    "\n",
    "s = HTMLSession()\n",
    "base_url = 'https://www.metacritic.com'\n",
    "\n",
    "## Getting review content\n",
    "def get_reviews(page):\n",
    "    \n",
    "    url = f'https://www.metacritic.com/game/switch/pokemon-legends-arceus/user-reviews?sort-by=score&num_items=100&page={page}'\n",
    "\n",
    "    r = s.get(url)\n",
    "\n",
    "    reviews = r.html.find('li.review.user_review')\n",
    "    \n",
    "    return reviews\n",
    "\n",
    "# Parsing a review\n",
    "def parse_product(rev):\n",
    "    \n",
    "    # Review\n",
    "    try: # Collapsed case\n",
    "        review = rev.find('span.blurb.blurb_expanded', first=True).text.strip().replace('\\n', '')\n",
    "    except AttributeError:\n",
    "        review = rev.find('span', first=True).text.strip().replace('\\n', '')\n",
    "    \n",
    "    # Date\n",
    "    date = rev.find('div.date', first=True).text.strip().replace('\\n', '')\n",
    "    \n",
    "    # Helpful\n",
    "    helpful = rev.find('div.helpful_summary.thumb_count', first=True).text\n",
    "    \n",
    "    # Critic link\n",
    "    user_url = base_url+rev.find('div.name', first=True).find('a', first=True).attrs['href']\n",
    "    \n",
    "    # Getting into user link\n",
    "    user_r = s.get(user_url)\n",
    "\n",
    "    # number of reviews by user\n",
    "    numb_revs = user_r.html.find('span.total_summary_reviews', first=True).text\n",
    "\n",
    "    # number of ratings by user\n",
    "    numb_ratings = user_r.html.find('span.total_summary_ratings.mr20', first=True).text\n",
    "\n",
    "    # Average review score\n",
    "    avg_score = user_r.html.find('span.summary_data', first=True).text\n",
    "    \n",
    "    row = {\n",
    "        'review': review,\n",
    "        'date': date,\n",
    "        'helpful': helpful,\n",
    "        'number_of_reviews': numb_revs,\n",
    "        'number_of_ratings': numb_ratings,\n",
    "        'average_user_score': avg_score,\n",
    "    }\n",
    "    return row"
   ]
  },
  {
   "cell_type": "code",
   "execution_count": 27,
   "id": "2cba886c-6dfa-4d54-8314-f8a1d28c96a9",
   "metadata": {},
   "outputs": [
    {
     "name": "stdout",
     "output_type": "stream",
     "text": [
      "Total reviews:  100\n"
     ]
    }
   ],
   "source": [
    "# Saving page 1 reviews\n",
    "results = []\n",
    "\n",
    "reviews = get_reviews(0)\n",
    "\n",
    "for review in reviews:\n",
    "    results.append(parse_product(review))\n",
    "    \n",
    "print('Total reviews: ', len(results))"
   ]
  },
  {
   "cell_type": "code",
   "execution_count": 109,
   "id": "8de9dc71-aaf6-40bc-83dc-3ab3df0b050e",
   "metadata": {},
   "outputs": [],
   "source": [
    "df = pd.DataFrame(results)"
   ]
  },
  {
   "cell_type": "code",
   "execution_count": 110,
   "id": "ebddf1bd-9775-4cc4-98d3-cb4d95ea6ac2",
   "metadata": {},
   "outputs": [
    {
     "data": {
      "text/html": [
       "<div>\n",
       "<style scoped>\n",
       "    .dataframe tbody tr th:only-of-type {\n",
       "        vertical-align: middle;\n",
       "    }\n",
       "\n",
       "    .dataframe tbody tr th {\n",
       "        vertical-align: top;\n",
       "    }\n",
       "\n",
       "    .dataframe thead th {\n",
       "        text-align: right;\n",
       "    }\n",
       "</style>\n",
       "<table border=\"1\" class=\"dataframe\">\n",
       "  <thead>\n",
       "    <tr style=\"text-align: right;\">\n",
       "      <th></th>\n",
       "      <th>review</th>\n",
       "      <th>date</th>\n",
       "      <th>helpful</th>\n",
       "      <th>number_of_reviews</th>\n",
       "      <th>number_of_ratings</th>\n",
       "      <th>average_user_score</th>\n",
       "    </tr>\n",
       "  </thead>\n",
       "  <tbody>\n",
       "    <tr>\n",
       "      <th>0</th>\n",
       "      <td>A fun reinvention of the Pokémon formula, hope...</td>\n",
       "      <td>Jan 29, 2022</td>\n",
       "      <td>49 of 62 users found this helpful</td>\n",
       "      <td>2 Reviews</td>\n",
       "      <td>2 Ratings</td>\n",
       "      <td>0.0</td>\n",
       "    </tr>\n",
       "    <tr>\n",
       "      <th>1</th>\n",
       "      <td>A fun, challenging (at times), Pokemon game wi...</td>\n",
       "      <td>Jan 30, 2022</td>\n",
       "      <td>52 of 72 users found this helpful</td>\n",
       "      <td>60 Reviews</td>\n",
       "      <td>111 Ratings</td>\n",
       "      <td>5.8</td>\n",
       "    </tr>\n",
       "    <tr>\n",
       "      <th>2</th>\n",
       "      <td>El juego más infravalorado de la saga y posibl...</td>\n",
       "      <td>Jan 29, 2022</td>\n",
       "      <td>48 of 62 users found this helpful</td>\n",
       "      <td>8 Reviews</td>\n",
       "      <td>12 Ratings</td>\n",
       "      <td>7.2</td>\n",
       "    </tr>\n",
       "    <tr>\n",
       "      <th>3</th>\n",
       "      <td>Best pokemon game of all time! New pokemon, ne...</td>\n",
       "      <td>Jan 30, 2022</td>\n",
       "      <td>28 of 35 users found this helpful</td>\n",
       "      <td>1 Review</td>\n",
       "      <td>4 Ratings</td>\n",
       "      <td>5.0</td>\n",
       "    </tr>\n",
       "    <tr>\n",
       "      <th>4</th>\n",
       "      <td>One outstanding experience, that is certain. I...</td>\n",
       "      <td>Feb 3, 2022</td>\n",
       "      <td>4 of 8 users found this helpful</td>\n",
       "      <td>1 Review</td>\n",
       "      <td>14 Ratings</td>\n",
       "      <td>9.0</td>\n",
       "    </tr>\n",
       "    <tr>\n",
       "      <th>...</th>\n",
       "      <td>...</td>\n",
       "      <td>...</td>\n",
       "      <td>...</td>\n",
       "      <td>...</td>\n",
       "      <td>...</td>\n",
       "      <td>...</td>\n",
       "    </tr>\n",
       "    <tr>\n",
       "      <th>95</th>\n",
       "      <td>Los gráficos están mal, pero no eso no quita q...</td>\n",
       "      <td>Feb 2, 2022</td>\n",
       "      <td>3 of 5 users found this helpful</td>\n",
       "      <td>5 Reviews</td>\n",
       "      <td>5 Ratings</td>\n",
       "      <td>7.0</td>\n",
       "    </tr>\n",
       "    <tr>\n",
       "      <th>96</th>\n",
       "      <td>An incredible game, this was what pokemon lack...</td>\n",
       "      <td>Jan 29, 2022</td>\n",
       "      <td>48 of 62 users found this helpful</td>\n",
       "      <td>5 Reviews</td>\n",
       "      <td>5 Ratings</td>\n",
       "      <td>10</td>\n",
       "    </tr>\n",
       "    <tr>\n",
       "      <th>97</th>\n",
       "      <td>This game is what Pokemon nedeed for the futur...</td>\n",
       "      <td>Feb 2, 2022</td>\n",
       "      <td>3 of 7 users found this helpful</td>\n",
       "      <td>1 Review</td>\n",
       "      <td>7 Ratings</td>\n",
       "      <td>10</td>\n",
       "    </tr>\n",
       "    <tr>\n",
       "      <th>98</th>\n",
       "      <td>The best Pokemon game yet. Definitely worth th...</td>\n",
       "      <td>Feb 2, 2022</td>\n",
       "      <td>3 of 4 users found this helpful</td>\n",
       "      <td>10 Reviews</td>\n",
       "      <td>10 Ratings</td>\n",
       "      <td>8.8</td>\n",
       "    </tr>\n",
       "    <tr>\n",
       "      <th>99</th>\n",
       "      <td>muito bão, mas muito bão mesmo isso sim very g...</td>\n",
       "      <td>Feb 13, 2022</td>\n",
       "      <td>0 of 1 users found this helpful</td>\n",
       "      <td>31 Reviews</td>\n",
       "      <td>34 Ratings</td>\n",
       "      <td>6.8</td>\n",
       "    </tr>\n",
       "  </tbody>\n",
       "</table>\n",
       "<p>100 rows × 6 columns</p>\n",
       "</div>"
      ],
      "text/plain": [
       "                                               review          date  \\\n",
       "0   A fun reinvention of the Pokémon formula, hope...  Jan 29, 2022   \n",
       "1   A fun, challenging (at times), Pokemon game wi...  Jan 30, 2022   \n",
       "2   El juego más infravalorado de la saga y posibl...  Jan 29, 2022   \n",
       "3   Best pokemon game of all time! New pokemon, ne...  Jan 30, 2022   \n",
       "4   One outstanding experience, that is certain. I...   Feb 3, 2022   \n",
       "..                                                ...           ...   \n",
       "95  Los gráficos están mal, pero no eso no quita q...   Feb 2, 2022   \n",
       "96  An incredible game, this was what pokemon lack...  Jan 29, 2022   \n",
       "97  This game is what Pokemon nedeed for the futur...   Feb 2, 2022   \n",
       "98  The best Pokemon game yet. Definitely worth th...   Feb 2, 2022   \n",
       "99  muito bão, mas muito bão mesmo isso sim very g...  Feb 13, 2022   \n",
       "\n",
       "                              helpful number_of_reviews number_of_ratings  \\\n",
       "0   49 of 62 users found this helpful         2 Reviews         2 Ratings   \n",
       "1   52 of 72 users found this helpful        60 Reviews       111 Ratings   \n",
       "2   48 of 62 users found this helpful         8 Reviews        12 Ratings   \n",
       "3   28 of 35 users found this helpful          1 Review         4 Ratings   \n",
       "4     4 of 8 users found this helpful          1 Review        14 Ratings   \n",
       "..                                ...               ...               ...   \n",
       "95    3 of 5 users found this helpful         5 Reviews         5 Ratings   \n",
       "96  48 of 62 users found this helpful         5 Reviews         5 Ratings   \n",
       "97    3 of 7 users found this helpful          1 Review         7 Ratings   \n",
       "98    3 of 4 users found this helpful        10 Reviews        10 Ratings   \n",
       "99    0 of 1 users found this helpful        31 Reviews        34 Ratings   \n",
       "\n",
       "   average_user_score  \n",
       "0                 0.0  \n",
       "1                 5.8  \n",
       "2                 7.2  \n",
       "3                 5.0  \n",
       "4                 9.0  \n",
       "..                ...  \n",
       "95                7.0  \n",
       "96                 10  \n",
       "97                 10  \n",
       "98                8.8  \n",
       "99                6.8  \n",
       "\n",
       "[100 rows x 6 columns]"
      ]
     },
     "execution_count": 110,
     "metadata": {},
     "output_type": "execute_result"
    }
   ],
   "source": [
    "df"
   ]
  },
  {
   "cell_type": "code",
   "execution_count": 111,
   "id": "3529edb1-c8d7-4d08-ad06-c9cef7d20efa",
   "metadata": {},
   "outputs": [
    {
     "data": {
      "text/plain": [
       "\"A fun, challenging (at times), Pokemon game with an addictive gameplay loop and an interesting system of fighting and catching Pokemon. It's a huge step in the right direction! The graphics, performance, and multiplayer options need work, but those are the only major flaws. The story, pacing, battles, catching mechanics, exploration, and general gameplay are such an improvement over Sword/Shield and Sun/Moon.There are major series changes that make big differences in quality of life, such as no limit to the number of moves a Pokemon can learn (they just have 4 memorized pre-battles) and not having to trade to evolve certain Pokemon anymore (using rare items on them instead). Exploration, crafting, gathering, and finding rare (and shiny) Pokemon have never been this fun. Gone is much of the tedium and boredom found in previous games.If you care only about graphics or online competitive battles, you will find reasons to not like this game. But if you're into the collecting aspect of Pokemon, you will love this. It's worth noting that the graphics and performance issues are much less noticeable when playing handheld.\""
      ]
     },
     "execution_count": 111,
     "metadata": {},
     "output_type": "execute_result"
    }
   ],
   "source": [
    "df['review'][1]"
   ]
  },
  {
   "cell_type": "code",
   "execution_count": 146,
   "id": "7b48649a-2cf0-4bec-8f7a-c4806e4dd628",
   "metadata": {},
   "outputs": [],
   "source": [
    "# Handling pagination\n",
    "def get_next_page(url):\n",
    "\n",
    "    r = s.get(url)\n",
    "    \n",
    "    next_button = r.html.find('span.flipper.next', first=True).find('a', first=True)\n",
    "    \n",
    "    if next_button:\n",
    "        return base_url+next_button.attrs['href']"
   ]
  },
  {
   "cell_type": "code",
   "execution_count": 147,
   "id": "3b274cf8-145c-446e-afb0-967fff18fc95",
   "metadata": {},
   "outputs": [],
   "source": [
    "test_next = get_next_page('https://www.metacritic.com/game/switch/pokemon-legends-arceus/user-reviews?sort-by=score&num_items=100&page=0')"
   ]
  },
  {
   "cell_type": "code",
   "execution_count": 148,
   "id": "0775e6a7-3dac-453e-b0ae-9b50a54ab9b7",
   "metadata": {},
   "outputs": [
    {
     "data": {
      "text/plain": [
       "'https://www.metacritic.com/game/switch/pokemon-legends-arceus/user-reviews?sort-by=score&num_items=100&page=1'"
      ]
     },
     "execution_count": 148,
     "metadata": {},
     "output_type": "execute_result"
    }
   ],
   "source": [
    "test_next"
   ]
  },
  {
   "cell_type": "code",
   "execution_count": 149,
   "id": "e959ec36-e5d6-440d-b679-4bdece558c00",
   "metadata": {},
   "outputs": [],
   "source": [
    "# Trying the last page\n",
    "last_url = 'https://www.metacritic.com/game/switch/pokemon-legends-arceus/user-reviews?sort-by=score&num_items=100&page=10'"
   ]
  },
  {
   "cell_type": "code",
   "execution_count": 150,
   "id": "b16c623b-bdaf-46b4-99b9-add94a4ee289",
   "metadata": {},
   "outputs": [],
   "source": [
    "test_last = get_next_page(last_url)"
   ]
  },
  {
   "cell_type": "code",
   "execution_count": 151,
   "id": "defb9395-7862-4f25-a910-d668229963b1",
   "metadata": {},
   "outputs": [
    {
     "data": {
      "text/plain": [
       "NoneType"
      ]
     },
     "execution_count": 151,
     "metadata": {},
     "output_type": "execute_result"
    }
   ],
   "source": [
    "type(test_last)"
   ]
  },
  {
   "cell_type": "code",
   "execution_count": null,
   "id": "a088b5db-ccc4-46fa-b443-c30d0f08dbee",
   "metadata": {},
   "outputs": [],
   "source": []
  },
  {
   "cell_type": "markdown",
   "id": "1271671a-7454-49cc-9543-fa22b00cd0dc",
   "metadata": {},
   "source": [
    "# Modifying function to include pagination"
   ]
  },
  {
   "cell_type": "code",
   "execution_count": 163,
   "id": "c83aff85-b646-4140-93f5-af5765c924e0",
   "metadata": {},
   "outputs": [],
   "source": [
    "from requests_html import HTMLSession\n",
    "\n",
    "s = HTMLSession()\n",
    "base_url = 'https://www.metacritic.com'\n",
    "url = f'https://www.metacritic.com/game/switch/pokemon-legends-arceus/user-reviews?sort-by=score&num_items=100&page=0'\n",
    "\n",
    "## Getting review content\n",
    "def get_reviews(url):\n",
    "\n",
    "    r = s.get(url)\n",
    "\n",
    "    reviews = r.html.find('li.review.user_review')\n",
    "    \n",
    "    return reviews\n",
    "\n",
    "# Parsing a review\n",
    "def parse_product(rev):\n",
    "    \n",
    "    # Review\n",
    "    try: # Collapsed case\n",
    "        review = rev.find('span.blurb.blurb_expanded', first=True).text.strip().replace('\\n', '')\n",
    "    except AttributeError:\n",
    "        review = rev.find('span', first=True).text.strip().replace('\\n', '')\n",
    "    \n",
    "    # Date\n",
    "    date = rev.find('div.date', first=True).text.strip().replace('\\n', '')\n",
    "    \n",
    "    # Score\n",
    "    score = rev.find('div.review_grade', first=True).text.strip().replace('\\n', '')\n",
    "    \n",
    "    # Helpful\n",
    "    helpful = rev.find('div.helpful_summary.thumb_count', first=True).text\n",
    "    \n",
    "    # Critic link\n",
    "    user_url = base_url+rev.find('div.name', first=True).find('a', first=True).attrs['href']\n",
    "    \n",
    "    # Getting into user link\n",
    "    user_r = s.get(user_url)\n",
    "\n",
    "    # number of reviews by user\n",
    "    numb_revs = user_r.html.find('span.total_summary_reviews', first=True).text\n",
    "\n",
    "    # number of ratings by user\n",
    "    numb_ratings = user_r.html.find('span.total_summary_ratings.mr20', first=True).text\n",
    "\n",
    "    # Average review score\n",
    "    avg_score = user_r.html.find('span.summary_data', first=True).text\n",
    "    \n",
    "    row = {\n",
    "        'review': review,\n",
    "        'date': date,\n",
    "        'score': score,\n",
    "        'helpful': helpful,\n",
    "        'number_of_reviews': numb_revs,\n",
    "        'number_of_ratings': numb_ratings,\n",
    "        'average_user_score': avg_score,\n",
    "    }\n",
    "    return row"
   ]
  },
  {
   "cell_type": "code",
   "execution_count": 164,
   "id": "df09abfb-4a02-4db8-b140-e589f38ec240",
   "metadata": {},
   "outputs": [
    {
     "name": "stdout",
     "output_type": "stream",
     "text": [
      "On page 0\n",
      "Total reviews:  100\n"
     ]
    }
   ],
   "source": [
    "# Loop for pagination (test with a counter for a couple of pages)\n",
    "\n",
    "counter = 0\n",
    "# Saving page reviews\n",
    "results = []\n",
    "\n",
    "while counter < 1:\n",
    "    print(f'On page {counter}')\n",
    "    \n",
    "    reviews = get_reviews(url)\n",
    "    for review in reviews:\n",
    "        results.append(parse_product(review))\n",
    "    \n",
    "    print('Total reviews: ', len(results))\n",
    "    \n",
    "    url = get_next_page(url)\n",
    "    counter += 1"
   ]
  },
  {
   "cell_type": "code",
   "execution_count": 165,
   "id": "f322cefd-57ee-4d2d-93b3-2a640313c21c",
   "metadata": {},
   "outputs": [],
   "source": [
    "df = pd.DataFrame(results)"
   ]
  },
  {
   "cell_type": "code",
   "execution_count": 166,
   "id": "81b91232-bf29-441d-8695-0aa074cfc2db",
   "metadata": {},
   "outputs": [
    {
     "data": {
      "text/html": [
       "<div>\n",
       "<style scoped>\n",
       "    .dataframe tbody tr th:only-of-type {\n",
       "        vertical-align: middle;\n",
       "    }\n",
       "\n",
       "    .dataframe tbody tr th {\n",
       "        vertical-align: top;\n",
       "    }\n",
       "\n",
       "    .dataframe thead th {\n",
       "        text-align: right;\n",
       "    }\n",
       "</style>\n",
       "<table border=\"1\" class=\"dataframe\">\n",
       "  <thead>\n",
       "    <tr style=\"text-align: right;\">\n",
       "      <th></th>\n",
       "      <th>review</th>\n",
       "      <th>date</th>\n",
       "      <th>score</th>\n",
       "      <th>helpful</th>\n",
       "      <th>number_of_reviews</th>\n",
       "      <th>number_of_ratings</th>\n",
       "      <th>average_user_score</th>\n",
       "    </tr>\n",
       "  </thead>\n",
       "  <tbody>\n",
       "    <tr>\n",
       "      <th>0</th>\n",
       "      <td>A fun reinvention of the Pokémon formula, hope...</td>\n",
       "      <td>Jan 29, 2022</td>\n",
       "      <td>10</td>\n",
       "      <td>49 of 62 users found this helpful</td>\n",
       "      <td>2 Reviews</td>\n",
       "      <td>2 Ratings</td>\n",
       "      <td>0.0</td>\n",
       "    </tr>\n",
       "    <tr>\n",
       "      <th>1</th>\n",
       "      <td>A fun, challenging (at times), Pokemon game wi...</td>\n",
       "      <td>Jan 30, 2022</td>\n",
       "      <td>10</td>\n",
       "      <td>52 of 72 users found this helpful</td>\n",
       "      <td>60 Reviews</td>\n",
       "      <td>111 Ratings</td>\n",
       "      <td>5.8</td>\n",
       "    </tr>\n",
       "    <tr>\n",
       "      <th>2</th>\n",
       "      <td>El juego más infravalorado de la saga y posibl...</td>\n",
       "      <td>Jan 29, 2022</td>\n",
       "      <td>10</td>\n",
       "      <td>48 of 62 users found this helpful</td>\n",
       "      <td>8 Reviews</td>\n",
       "      <td>12 Ratings</td>\n",
       "      <td>7.2</td>\n",
       "    </tr>\n",
       "    <tr>\n",
       "      <th>3</th>\n",
       "      <td>Best pokemon game of all time! New pokemon, ne...</td>\n",
       "      <td>Jan 30, 2022</td>\n",
       "      <td>10</td>\n",
       "      <td>28 of 35 users found this helpful</td>\n",
       "      <td>1 Review</td>\n",
       "      <td>4 Ratings</td>\n",
       "      <td>5.0</td>\n",
       "    </tr>\n",
       "    <tr>\n",
       "      <th>4</th>\n",
       "      <td>One outstanding experience, that is certain. I...</td>\n",
       "      <td>Feb 3, 2022</td>\n",
       "      <td>10</td>\n",
       "      <td>4 of 8 users found this helpful</td>\n",
       "      <td>1 Review</td>\n",
       "      <td>14 Ratings</td>\n",
       "      <td>9.0</td>\n",
       "    </tr>\n",
       "    <tr>\n",
       "      <th>...</th>\n",
       "      <td>...</td>\n",
       "      <td>...</td>\n",
       "      <td>...</td>\n",
       "      <td>...</td>\n",
       "      <td>...</td>\n",
       "      <td>...</td>\n",
       "      <td>...</td>\n",
       "    </tr>\n",
       "    <tr>\n",
       "      <th>95</th>\n",
       "      <td>Los gráficos están mal, pero no eso no quita q...</td>\n",
       "      <td>Feb 2, 2022</td>\n",
       "      <td>10</td>\n",
       "      <td>3 of 5 users found this helpful</td>\n",
       "      <td>5 Reviews</td>\n",
       "      <td>5 Ratings</td>\n",
       "      <td>7.0</td>\n",
       "    </tr>\n",
       "    <tr>\n",
       "      <th>96</th>\n",
       "      <td>An incredible game, this was what pokemon lack...</td>\n",
       "      <td>Jan 29, 2022</td>\n",
       "      <td>10</td>\n",
       "      <td>48 of 62 users found this helpful</td>\n",
       "      <td>5 Reviews</td>\n",
       "      <td>5 Ratings</td>\n",
       "      <td>10</td>\n",
       "    </tr>\n",
       "    <tr>\n",
       "      <th>97</th>\n",
       "      <td>This game is what Pokemon nedeed for the futur...</td>\n",
       "      <td>Feb 2, 2022</td>\n",
       "      <td>10</td>\n",
       "      <td>3 of 7 users found this helpful</td>\n",
       "      <td>1 Review</td>\n",
       "      <td>7 Ratings</td>\n",
       "      <td>10</td>\n",
       "    </tr>\n",
       "    <tr>\n",
       "      <th>98</th>\n",
       "      <td>The best Pokemon game yet. Definitely worth th...</td>\n",
       "      <td>Feb 2, 2022</td>\n",
       "      <td>10</td>\n",
       "      <td>3 of 4 users found this helpful</td>\n",
       "      <td>10 Reviews</td>\n",
       "      <td>10 Ratings</td>\n",
       "      <td>8.8</td>\n",
       "    </tr>\n",
       "    <tr>\n",
       "      <th>99</th>\n",
       "      <td>muito bão, mas muito bão mesmo isso sim very g...</td>\n",
       "      <td>Feb 13, 2022</td>\n",
       "      <td>10</td>\n",
       "      <td>0 of 1 users found this helpful</td>\n",
       "      <td>31 Reviews</td>\n",
       "      <td>34 Ratings</td>\n",
       "      <td>6.8</td>\n",
       "    </tr>\n",
       "  </tbody>\n",
       "</table>\n",
       "<p>100 rows × 7 columns</p>\n",
       "</div>"
      ],
      "text/plain": [
       "                                               review          date score  \\\n",
       "0   A fun reinvention of the Pokémon formula, hope...  Jan 29, 2022    10   \n",
       "1   A fun, challenging (at times), Pokemon game wi...  Jan 30, 2022    10   \n",
       "2   El juego más infravalorado de la saga y posibl...  Jan 29, 2022    10   \n",
       "3   Best pokemon game of all time! New pokemon, ne...  Jan 30, 2022    10   \n",
       "4   One outstanding experience, that is certain. I...   Feb 3, 2022    10   \n",
       "..                                                ...           ...   ...   \n",
       "95  Los gráficos están mal, pero no eso no quita q...   Feb 2, 2022    10   \n",
       "96  An incredible game, this was what pokemon lack...  Jan 29, 2022    10   \n",
       "97  This game is what Pokemon nedeed for the futur...   Feb 2, 2022    10   \n",
       "98  The best Pokemon game yet. Definitely worth th...   Feb 2, 2022    10   \n",
       "99  muito bão, mas muito bão mesmo isso sim very g...  Feb 13, 2022    10   \n",
       "\n",
       "                              helpful number_of_reviews number_of_ratings  \\\n",
       "0   49 of 62 users found this helpful         2 Reviews         2 Ratings   \n",
       "1   52 of 72 users found this helpful        60 Reviews       111 Ratings   \n",
       "2   48 of 62 users found this helpful         8 Reviews        12 Ratings   \n",
       "3   28 of 35 users found this helpful          1 Review         4 Ratings   \n",
       "4     4 of 8 users found this helpful          1 Review        14 Ratings   \n",
       "..                                ...               ...               ...   \n",
       "95    3 of 5 users found this helpful         5 Reviews         5 Ratings   \n",
       "96  48 of 62 users found this helpful         5 Reviews         5 Ratings   \n",
       "97    3 of 7 users found this helpful          1 Review         7 Ratings   \n",
       "98    3 of 4 users found this helpful        10 Reviews        10 Ratings   \n",
       "99    0 of 1 users found this helpful        31 Reviews        34 Ratings   \n",
       "\n",
       "   average_user_score  \n",
       "0                 0.0  \n",
       "1                 5.8  \n",
       "2                 7.2  \n",
       "3                 5.0  \n",
       "4                 9.0  \n",
       "..                ...  \n",
       "95                7.0  \n",
       "96                 10  \n",
       "97                 10  \n",
       "98                8.8  \n",
       "99                6.8  \n",
       "\n",
       "[100 rows x 7 columns]"
      ]
     },
     "execution_count": 166,
     "metadata": {},
     "output_type": "execute_result"
    }
   ],
   "source": [
    "df"
   ]
  },
  {
   "cell_type": "markdown",
   "id": "3e4c50f6-b0ea-43da-acd2-5c994c459e6d",
   "metadata": {},
   "source": [
    "# Going for the whole thing!"
   ]
  },
  {
   "cell_type": "code",
   "execution_count": 1,
   "id": "ac703dad",
   "metadata": {},
   "outputs": [],
   "source": [
    "import pandas as pd\n",
    "from requests_html import HTMLSession"
   ]
  },
  {
   "cell_type": "code",
   "execution_count": 2,
   "id": "1fcb8f5f",
   "metadata": {},
   "outputs": [],
   "source": [
    "# Handling pagination\n",
    "def get_next_page(url):\n",
    "\n",
    "    r = s.get(url)\n",
    "    \n",
    "    next_button = r.html.find('span.flipper.next', first=True).find('a', first=True)\n",
    "    \n",
    "    if next_button:\n",
    "        return base_url+next_button.attrs['href']\n",
    "    \n",
    "## Getting review content\n",
    "def get_reviews(url):\n",
    "\n",
    "    r = s.get(url)\n",
    "\n",
    "    reviews = r.html.find('li.review.user_review')\n",
    "    \n",
    "    return reviews\n",
    "\n",
    "# Parsing a review\n",
    "def parse_product(rev):\n",
    "    \n",
    "    # Review\n",
    "    try: # Collapsed case\n",
    "        review = rev.find('span.blurb.blurb_expanded', first=True).text.strip().replace('\\n', '')\n",
    "    except AttributeError:\n",
    "        review = rev.find('span', first=True).text.strip().replace('\\n', '')\n",
    "    \n",
    "    # Date\n",
    "    date = rev.find('div.date', first=True).text.strip().replace('\\n', '')\n",
    "    \n",
    "    # Score\n",
    "    score = rev.find('div.review_grade', first=True).text.strip().replace('\\n', '')\n",
    "    \n",
    "    # Helpful\n",
    "    helpful = rev.find('div.helpful_summary.thumb_count', first=True).text\n",
    "    \n",
    "    # Critic link\n",
    "    user_url = base_url+rev.find('div.name', first=True).find('a', first=True).attrs['href']\n",
    "    \n",
    "    # Getting into user link\n",
    "    user_r = s.get(user_url)\n",
    "\n",
    "    # number of reviews by user\n",
    "    numb_revs = user_r.html.find('span.total_summary_reviews', first=True).text\n",
    "\n",
    "    # number of ratings by user\n",
    "    numb_ratings = user_r.html.find('span.total_summary_ratings.mr20', first=True).text\n",
    "\n",
    "    # Average review score\n",
    "    avg_score = user_r.html.find('span.summary_data', first=True).text\n",
    "    \n",
    "    row = {\n",
    "        'review': review,\n",
    "        'date': date,\n",
    "        'score': score,\n",
    "        'helpful': helpful,\n",
    "        'number_of_reviews': numb_revs,\n",
    "        'number_of_ratings': numb_ratings,\n",
    "        'average_user_score': avg_score,\n",
    "    }\n",
    "    return row"
   ]
  },
  {
   "cell_type": "code",
   "execution_count": 3,
   "id": "d0e3aa72-ae74-47ea-98fd-d37b41458bc0",
   "metadata": {},
   "outputs": [
    {
     "name": "stdout",
     "output_type": "stream",
     "text": [
      "On page 0\n"
     ]
    },
    {
     "ename": "ParserError",
     "evalue": "Document is empty",
     "output_type": "error",
     "traceback": [
      "\u001b[0;31m---------------------------------------------------------------------------\u001b[0m",
      "\u001b[0;31mXMLSyntaxError\u001b[0m                            Traceback (most recent call last)",
      "\u001b[0;32m~/Documents/ML/projectArceus/arceus-env/lib/python3.7/site-packages/pyquery/pyquery.py\u001b[0m in \u001b[0;36mfromstring\u001b[0;34m(context, parser, custom_parser)\u001b[0m\n\u001b[1;32m     56\u001b[0m             \u001b[0;32mtry\u001b[0m\u001b[0;34m:\u001b[0m\u001b[0;34m\u001b[0m\u001b[0;34m\u001b[0m\u001b[0m\n\u001b[0;32m---> 57\u001b[0;31m                 \u001b[0mresult\u001b[0m \u001b[0;34m=\u001b[0m \u001b[0mgetattr\u001b[0m\u001b[0;34m(\u001b[0m\u001b[0metree\u001b[0m\u001b[0;34m,\u001b[0m \u001b[0mmeth\u001b[0m\u001b[0;34m)\u001b[0m\u001b[0;34m(\u001b[0m\u001b[0mcontext\u001b[0m\u001b[0;34m)\u001b[0m\u001b[0;34m\u001b[0m\u001b[0;34m\u001b[0m\u001b[0m\n\u001b[0m\u001b[1;32m     58\u001b[0m             \u001b[0;32mexcept\u001b[0m \u001b[0metree\u001b[0m\u001b[0;34m.\u001b[0m\u001b[0mXMLSyntaxError\u001b[0m\u001b[0;34m:\u001b[0m\u001b[0;34m\u001b[0m\u001b[0;34m\u001b[0m\u001b[0m\n",
      "\u001b[0;32msrc/lxml/etree.pyx\u001b[0m in \u001b[0;36mlxml.etree.fromstring\u001b[0;34m()\u001b[0m\n",
      "\u001b[0;32msrc/lxml/parser.pxi\u001b[0m in \u001b[0;36mlxml.etree._parseMemoryDocument\u001b[0;34m()\u001b[0m\n",
      "\u001b[0;32msrc/lxml/parser.pxi\u001b[0m in \u001b[0;36mlxml.etree._parseDoc\u001b[0;34m()\u001b[0m\n",
      "\u001b[0;32msrc/lxml/parser.pxi\u001b[0m in \u001b[0;36mlxml.etree._BaseParser._parseDoc\u001b[0;34m()\u001b[0m\n",
      "\u001b[0;32msrc/lxml/parser.pxi\u001b[0m in \u001b[0;36mlxml.etree._ParserContext._handleParseResultDoc\u001b[0;34m()\u001b[0m\n",
      "\u001b[0;32msrc/lxml/parser.pxi\u001b[0m in \u001b[0;36mlxml.etree._handleParseResult\u001b[0;34m()\u001b[0m\n",
      "\u001b[0;32msrc/lxml/parser.pxi\u001b[0m in \u001b[0;36mlxml.etree._raiseParseError\u001b[0;34m()\u001b[0m\n",
      "\u001b[0;31mXMLSyntaxError\u001b[0m: Document is empty, line 1, column 1 (<string>, line 1)",
      "\nDuring handling of the above exception, another exception occurred:\n",
      "\u001b[0;31mParserError\u001b[0m                               Traceback (most recent call last)",
      "\u001b[0;32m/tmp/ipykernel_171500/1604390899.py\u001b[0m in \u001b[0;36m<module>\u001b[0;34m\u001b[0m\n\u001b[1;32m     14\u001b[0m     \u001b[0mreviews\u001b[0m \u001b[0;34m=\u001b[0m \u001b[0mget_reviews\u001b[0m\u001b[0;34m(\u001b[0m\u001b[0murl\u001b[0m\u001b[0;34m)\u001b[0m\u001b[0;34m\u001b[0m\u001b[0;34m\u001b[0m\u001b[0m\n\u001b[1;32m     15\u001b[0m     \u001b[0;32mfor\u001b[0m \u001b[0mreview\u001b[0m \u001b[0;32min\u001b[0m \u001b[0mreviews\u001b[0m\u001b[0;34m:\u001b[0m\u001b[0;34m\u001b[0m\u001b[0;34m\u001b[0m\u001b[0m\n\u001b[0;32m---> 16\u001b[0;31m         \u001b[0mresults\u001b[0m\u001b[0;34m.\u001b[0m\u001b[0mappend\u001b[0m\u001b[0;34m(\u001b[0m\u001b[0mparse_product\u001b[0m\u001b[0;34m(\u001b[0m\u001b[0mreview\u001b[0m\u001b[0;34m)\u001b[0m\u001b[0;34m)\u001b[0m\u001b[0;34m\u001b[0m\u001b[0;34m\u001b[0m\u001b[0m\n\u001b[0m\u001b[1;32m     17\u001b[0m \u001b[0;34m\u001b[0m\u001b[0m\n\u001b[1;32m     18\u001b[0m     \u001b[0mprint\u001b[0m\u001b[0;34m(\u001b[0m\u001b[0;34m'Total reviews: '\u001b[0m\u001b[0;34m,\u001b[0m \u001b[0mlen\u001b[0m\u001b[0;34m(\u001b[0m\u001b[0mresults\u001b[0m\u001b[0;34m)\u001b[0m\u001b[0;34m)\u001b[0m\u001b[0;34m\u001b[0m\u001b[0;34m\u001b[0m\u001b[0m\n",
      "\u001b[0;32m/tmp/ipykernel_171500/2673306839.py\u001b[0m in \u001b[0;36mparse_product\u001b[0;34m(rev)\u001b[0m\n\u001b[1;32m     43\u001b[0m \u001b[0;34m\u001b[0m\u001b[0m\n\u001b[1;32m     44\u001b[0m     \u001b[0;31m# number of reviews by user\u001b[0m\u001b[0;34m\u001b[0m\u001b[0;34m\u001b[0m\u001b[0;34m\u001b[0m\u001b[0m\n\u001b[0;32m---> 45\u001b[0;31m     \u001b[0mnumb_revs\u001b[0m \u001b[0;34m=\u001b[0m \u001b[0muser_r\u001b[0m\u001b[0;34m.\u001b[0m\u001b[0mhtml\u001b[0m\u001b[0;34m.\u001b[0m\u001b[0mfind\u001b[0m\u001b[0;34m(\u001b[0m\u001b[0;34m'span.total_summary_reviews'\u001b[0m\u001b[0;34m,\u001b[0m \u001b[0mfirst\u001b[0m\u001b[0;34m=\u001b[0m\u001b[0;32mTrue\u001b[0m\u001b[0;34m)\u001b[0m\u001b[0;34m.\u001b[0m\u001b[0mtext\u001b[0m\u001b[0;34m\u001b[0m\u001b[0;34m\u001b[0m\u001b[0m\n\u001b[0m\u001b[1;32m     46\u001b[0m \u001b[0;34m\u001b[0m\u001b[0m\n\u001b[1;32m     47\u001b[0m     \u001b[0;31m# number of ratings by user\u001b[0m\u001b[0;34m\u001b[0m\u001b[0;34m\u001b[0m\u001b[0;34m\u001b[0m\u001b[0m\n",
      "\u001b[0;32m~/Documents/ML/projectArceus/arceus-env/lib/python3.7/site-packages/requests_html.py\u001b[0m in \u001b[0;36mhtml\u001b[0;34m(self)\u001b[0m\n\u001b[1;32m    652\u001b[0m     \u001b[0;32mdef\u001b[0m \u001b[0mhtml\u001b[0m\u001b[0;34m(\u001b[0m\u001b[0mself\u001b[0m\u001b[0;34m)\u001b[0m \u001b[0;34m->\u001b[0m \u001b[0mHTML\u001b[0m\u001b[0;34m:\u001b[0m\u001b[0;34m\u001b[0m\u001b[0;34m\u001b[0m\u001b[0m\n\u001b[1;32m    653\u001b[0m         \u001b[0;32mif\u001b[0m \u001b[0;32mnot\u001b[0m \u001b[0mself\u001b[0m\u001b[0;34m.\u001b[0m\u001b[0m_html\u001b[0m\u001b[0;34m:\u001b[0m\u001b[0;34m\u001b[0m\u001b[0;34m\u001b[0m\u001b[0m\n\u001b[0;32m--> 654\u001b[0;31m             \u001b[0mself\u001b[0m\u001b[0;34m.\u001b[0m\u001b[0m_html\u001b[0m \u001b[0;34m=\u001b[0m \u001b[0mHTML\u001b[0m\u001b[0;34m(\u001b[0m\u001b[0msession\u001b[0m\u001b[0;34m=\u001b[0m\u001b[0mself\u001b[0m\u001b[0;34m.\u001b[0m\u001b[0msession\u001b[0m\u001b[0;34m,\u001b[0m \u001b[0murl\u001b[0m\u001b[0;34m=\u001b[0m\u001b[0mself\u001b[0m\u001b[0;34m.\u001b[0m\u001b[0murl\u001b[0m\u001b[0;34m,\u001b[0m \u001b[0mhtml\u001b[0m\u001b[0;34m=\u001b[0m\u001b[0mself\u001b[0m\u001b[0;34m.\u001b[0m\u001b[0mcontent\u001b[0m\u001b[0;34m,\u001b[0m \u001b[0mdefault_encoding\u001b[0m\u001b[0;34m=\u001b[0m\u001b[0mself\u001b[0m\u001b[0;34m.\u001b[0m\u001b[0mencoding\u001b[0m\u001b[0;34m)\u001b[0m\u001b[0;34m\u001b[0m\u001b[0;34m\u001b[0m\u001b[0m\n\u001b[0m\u001b[1;32m    655\u001b[0m \u001b[0;34m\u001b[0m\u001b[0m\n\u001b[1;32m    656\u001b[0m         \u001b[0;32mreturn\u001b[0m \u001b[0mself\u001b[0m\u001b[0;34m.\u001b[0m\u001b[0m_html\u001b[0m\u001b[0;34m\u001b[0m\u001b[0;34m\u001b[0m\u001b[0m\n",
      "\u001b[0;32m~/Documents/ML/projectArceus/arceus-env/lib/python3.7/site-packages/requests_html.py\u001b[0m in \u001b[0;36m__init__\u001b[0;34m(self, session, url, html, default_encoding, async_)\u001b[0m\n\u001b[1;32m    419\u001b[0m         super(HTML, self).__init__(\n\u001b[1;32m    420\u001b[0m             \u001b[0;31m# Convert unicode HTML to bytes.\u001b[0m\u001b[0;34m\u001b[0m\u001b[0;34m\u001b[0m\u001b[0;34m\u001b[0m\u001b[0m\n\u001b[0;32m--> 421\u001b[0;31m             \u001b[0melement\u001b[0m\u001b[0;34m=\u001b[0m\u001b[0mPyQuery\u001b[0m\u001b[0;34m(\u001b[0m\u001b[0mhtml\u001b[0m\u001b[0;34m)\u001b[0m\u001b[0;34m(\u001b[0m\u001b[0;34m'html'\u001b[0m\u001b[0;34m)\u001b[0m \u001b[0;32mor\u001b[0m \u001b[0mPyQuery\u001b[0m\u001b[0;34m(\u001b[0m\u001b[0;34mf'<html>{html}</html>'\u001b[0m\u001b[0;34m)\u001b[0m\u001b[0;34m(\u001b[0m\u001b[0;34m'html'\u001b[0m\u001b[0;34m)\u001b[0m\u001b[0;34m,\u001b[0m\u001b[0;34m\u001b[0m\u001b[0;34m\u001b[0m\u001b[0m\n\u001b[0m\u001b[1;32m    422\u001b[0m             \u001b[0mhtml\u001b[0m\u001b[0;34m=\u001b[0m\u001b[0mhtml\u001b[0m\u001b[0;34m,\u001b[0m\u001b[0;34m\u001b[0m\u001b[0;34m\u001b[0m\u001b[0m\n\u001b[1;32m    423\u001b[0m             \u001b[0murl\u001b[0m\u001b[0;34m=\u001b[0m\u001b[0murl\u001b[0m\u001b[0;34m,\u001b[0m\u001b[0;34m\u001b[0m\u001b[0;34m\u001b[0m\u001b[0m\n",
      "\u001b[0;32m~/Documents/ML/projectArceus/arceus-env/lib/python3.7/site-packages/pyquery/pyquery.py\u001b[0m in \u001b[0;36m__init__\u001b[0;34m(self, *args, **kwargs)\u001b[0m\n\u001b[1;32m    215\u001b[0m             \u001b[0;32mif\u001b[0m \u001b[0misinstance\u001b[0m\u001b[0;34m(\u001b[0m\u001b[0mcontext\u001b[0m\u001b[0;34m,\u001b[0m \u001b[0mbasestring\u001b[0m\u001b[0;34m)\u001b[0m\u001b[0;34m:\u001b[0m\u001b[0;34m\u001b[0m\u001b[0;34m\u001b[0m\u001b[0m\n\u001b[1;32m    216\u001b[0m                 \u001b[0;32mtry\u001b[0m\u001b[0;34m:\u001b[0m\u001b[0;34m\u001b[0m\u001b[0;34m\u001b[0m\u001b[0m\n\u001b[0;32m--> 217\u001b[0;31m                     \u001b[0melements\u001b[0m \u001b[0;34m=\u001b[0m \u001b[0mfromstring\u001b[0m\u001b[0;34m(\u001b[0m\u001b[0mcontext\u001b[0m\u001b[0;34m,\u001b[0m \u001b[0mself\u001b[0m\u001b[0;34m.\u001b[0m\u001b[0mparser\u001b[0m\u001b[0;34m)\u001b[0m\u001b[0;34m\u001b[0m\u001b[0;34m\u001b[0m\u001b[0m\n\u001b[0m\u001b[1;32m    218\u001b[0m                 \u001b[0;32mexcept\u001b[0m \u001b[0mException\u001b[0m\u001b[0;34m:\u001b[0m\u001b[0;34m\u001b[0m\u001b[0;34m\u001b[0m\u001b[0m\n\u001b[1;32m    219\u001b[0m                     \u001b[0;32mraise\u001b[0m\u001b[0;34m\u001b[0m\u001b[0;34m\u001b[0m\u001b[0m\n",
      "\u001b[0;32m~/Documents/ML/projectArceus/arceus-env/lib/python3.7/site-packages/pyquery/pyquery.py\u001b[0m in \u001b[0;36mfromstring\u001b[0;34m(context, parser, custom_parser)\u001b[0m\n\u001b[1;32m     59\u001b[0m                 \u001b[0;32mif\u001b[0m \u001b[0mhasattr\u001b[0m\u001b[0;34m(\u001b[0m\u001b[0mcontext\u001b[0m\u001b[0;34m,\u001b[0m \u001b[0;34m'seek'\u001b[0m\u001b[0;34m)\u001b[0m\u001b[0;34m:\u001b[0m\u001b[0;34m\u001b[0m\u001b[0;34m\u001b[0m\u001b[0m\n\u001b[1;32m     60\u001b[0m                     \u001b[0mcontext\u001b[0m\u001b[0;34m.\u001b[0m\u001b[0mseek\u001b[0m\u001b[0;34m(\u001b[0m\u001b[0;36m0\u001b[0m\u001b[0;34m)\u001b[0m\u001b[0;34m\u001b[0m\u001b[0;34m\u001b[0m\u001b[0m\n\u001b[0;32m---> 61\u001b[0;31m                 \u001b[0mresult\u001b[0m \u001b[0;34m=\u001b[0m \u001b[0mgetattr\u001b[0m\u001b[0;34m(\u001b[0m\u001b[0mlxml\u001b[0m\u001b[0;34m.\u001b[0m\u001b[0mhtml\u001b[0m\u001b[0;34m,\u001b[0m \u001b[0mmeth\u001b[0m\u001b[0;34m)\u001b[0m\u001b[0;34m(\u001b[0m\u001b[0mcontext\u001b[0m\u001b[0;34m)\u001b[0m\u001b[0;34m\u001b[0m\u001b[0;34m\u001b[0m\u001b[0m\n\u001b[0m\u001b[1;32m     62\u001b[0m             \u001b[0;32mif\u001b[0m \u001b[0misinstance\u001b[0m\u001b[0;34m(\u001b[0m\u001b[0mresult\u001b[0m\u001b[0;34m,\u001b[0m \u001b[0metree\u001b[0m\u001b[0;34m.\u001b[0m\u001b[0m_ElementTree\u001b[0m\u001b[0;34m)\u001b[0m\u001b[0;34m:\u001b[0m\u001b[0;34m\u001b[0m\u001b[0;34m\u001b[0m\u001b[0m\n\u001b[1;32m     63\u001b[0m                 \u001b[0;32mreturn\u001b[0m \u001b[0;34m[\u001b[0m\u001b[0mresult\u001b[0m\u001b[0;34m.\u001b[0m\u001b[0mgetroot\u001b[0m\u001b[0;34m(\u001b[0m\u001b[0;34m)\u001b[0m\u001b[0;34m]\u001b[0m\u001b[0;34m\u001b[0m\u001b[0;34m\u001b[0m\u001b[0m\n",
      "\u001b[0;32m~/Documents/ML/projectArceus/arceus-env/lib/python3.7/site-packages/lxml/html/__init__.py\u001b[0m in \u001b[0;36mfromstring\u001b[0;34m(html, base_url, parser, **kw)\u001b[0m\n\u001b[1;32m    873\u001b[0m     \u001b[0;32melse\u001b[0m\u001b[0;34m:\u001b[0m\u001b[0;34m\u001b[0m\u001b[0;34m\u001b[0m\u001b[0m\n\u001b[1;32m    874\u001b[0m         \u001b[0mis_full_html\u001b[0m \u001b[0;34m=\u001b[0m \u001b[0m_looks_like_full_html_unicode\u001b[0m\u001b[0;34m(\u001b[0m\u001b[0mhtml\u001b[0m\u001b[0;34m)\u001b[0m\u001b[0;34m\u001b[0m\u001b[0;34m\u001b[0m\u001b[0m\n\u001b[0;32m--> 875\u001b[0;31m     \u001b[0mdoc\u001b[0m \u001b[0;34m=\u001b[0m \u001b[0mdocument_fromstring\u001b[0m\u001b[0;34m(\u001b[0m\u001b[0mhtml\u001b[0m\u001b[0;34m,\u001b[0m \u001b[0mparser\u001b[0m\u001b[0;34m=\u001b[0m\u001b[0mparser\u001b[0m\u001b[0;34m,\u001b[0m \u001b[0mbase_url\u001b[0m\u001b[0;34m=\u001b[0m\u001b[0mbase_url\u001b[0m\u001b[0;34m,\u001b[0m \u001b[0;34m**\u001b[0m\u001b[0mkw\u001b[0m\u001b[0;34m)\u001b[0m\u001b[0;34m\u001b[0m\u001b[0;34m\u001b[0m\u001b[0m\n\u001b[0m\u001b[1;32m    876\u001b[0m     \u001b[0;32mif\u001b[0m \u001b[0mis_full_html\u001b[0m\u001b[0;34m:\u001b[0m\u001b[0;34m\u001b[0m\u001b[0;34m\u001b[0m\u001b[0m\n\u001b[1;32m    877\u001b[0m         \u001b[0;32mreturn\u001b[0m \u001b[0mdoc\u001b[0m\u001b[0;34m\u001b[0m\u001b[0;34m\u001b[0m\u001b[0m\n",
      "\u001b[0;32m~/Documents/ML/projectArceus/arceus-env/lib/python3.7/site-packages/lxml/html/__init__.py\u001b[0m in \u001b[0;36mdocument_fromstring\u001b[0;34m(html, parser, ensure_head_body, **kw)\u001b[0m\n\u001b[1;32m    762\u001b[0m     \u001b[0;32mif\u001b[0m \u001b[0mvalue\u001b[0m \u001b[0;32mis\u001b[0m \u001b[0;32mNone\u001b[0m\u001b[0;34m:\u001b[0m\u001b[0;34m\u001b[0m\u001b[0;34m\u001b[0m\u001b[0m\n\u001b[1;32m    763\u001b[0m         raise etree.ParserError(\n\u001b[0;32m--> 764\u001b[0;31m             \"Document is empty\")\n\u001b[0m\u001b[1;32m    765\u001b[0m     \u001b[0;32mif\u001b[0m \u001b[0mensure_head_body\u001b[0m \u001b[0;32mand\u001b[0m \u001b[0mvalue\u001b[0m\u001b[0;34m.\u001b[0m\u001b[0mfind\u001b[0m\u001b[0;34m(\u001b[0m\u001b[0;34m'head'\u001b[0m\u001b[0;34m)\u001b[0m \u001b[0;32mis\u001b[0m \u001b[0;32mNone\u001b[0m\u001b[0;34m:\u001b[0m\u001b[0;34m\u001b[0m\u001b[0;34m\u001b[0m\u001b[0m\n\u001b[1;32m    766\u001b[0m         \u001b[0mvalue\u001b[0m\u001b[0;34m.\u001b[0m\u001b[0minsert\u001b[0m\u001b[0;34m(\u001b[0m\u001b[0;36m0\u001b[0m\u001b[0;34m,\u001b[0m \u001b[0mElement\u001b[0m\u001b[0;34m(\u001b[0m\u001b[0;34m'head'\u001b[0m\u001b[0;34m)\u001b[0m\u001b[0;34m)\u001b[0m\u001b[0;34m\u001b[0m\u001b[0;34m\u001b[0m\u001b[0m\n",
      "\u001b[0;31mParserError\u001b[0m: Document is empty"
     ]
    }
   ],
   "source": [
    "s = HTMLSession()\n",
    "base_url = 'https://www.metacritic.com'\n",
    "url = 'https://www.metacritic.com/game/switch/pokemon-legends-arceus/user-reviews?sort-by=score&num_items=100&page=0'\n",
    "\n",
    "# Loop for pagination\n",
    "\n",
    "counter = 0\n",
    "# Saving page reviews\n",
    "results = []\n",
    "\n",
    "while True:\n",
    "    print(f'On page {counter}')\n",
    "    \n",
    "    reviews = get_reviews(url)\n",
    "    for review in reviews:\n",
    "        results.append(parse_product(review))\n",
    "    \n",
    "    print('Total reviews: ', len(results))\n",
    "    \n",
    "    url = get_next_page(url)\n",
    "    if not url:\n",
    "        break\n",
    "    counter += 1"
   ]
  },
  {
   "cell_type": "code",
   "execution_count": 172,
   "id": "c37544b6-4c40-4140-8bcf-3979234b385f",
   "metadata": {},
   "outputs": [
    {
     "data": {
      "text/plain": [
       "1067"
      ]
     },
     "execution_count": 172,
     "metadata": {},
     "output_type": "execute_result"
    }
   ],
   "source": [
    "len(results)"
   ]
  },
  {
   "cell_type": "code",
   "execution_count": 173,
   "id": "72daa403-3c4e-4447-be53-d04649d64692",
   "metadata": {},
   "outputs": [],
   "source": [
    "import pickle"
   ]
  },
  {
   "cell_type": "code",
   "execution_count": 174,
   "id": "2d5f76f9-8034-4e43-ab01-43b2d5745dc2",
   "metadata": {},
   "outputs": [],
   "source": [
    "pickle.dump( results, open( \"reviews.data\", \"wb\" ) )"
   ]
  },
  {
   "cell_type": "code",
   "execution_count": 175,
   "id": "37e6fa78-b45c-4ee2-9af4-016c31561e90",
   "metadata": {},
   "outputs": [],
   "source": [
    "# Sanity check\n",
    "results_loaded = pickle.load( open( \"arceus_reviews.data\", \"rb\" ) )"
   ]
  },
  {
   "cell_type": "code",
   "execution_count": 177,
   "id": "20d53004-cb7b-4539-9d0a-61627ddc6032",
   "metadata": {},
   "outputs": [
    {
     "data": {
      "text/plain": [
       "1067"
      ]
     },
     "execution_count": 177,
     "metadata": {},
     "output_type": "execute_result"
    }
   ],
   "source": [
    "len(results_loaded)"
   ]
  },
  {
   "cell_type": "code",
   "execution_count": 179,
   "id": "898252c0-06e4-49cb-af5f-b031dbb18433",
   "metadata": {},
   "outputs": [],
   "source": [
    "df_loaded = pd.DataFrame(results_loaded)"
   ]
  },
  {
   "cell_type": "code",
   "execution_count": 180,
   "id": "b22f9524-8563-4fd9-89e1-b12cba2ae693",
   "metadata": {},
   "outputs": [
    {
     "data": {
      "text/html": [
       "<div>\n",
       "<style scoped>\n",
       "    .dataframe tbody tr th:only-of-type {\n",
       "        vertical-align: middle;\n",
       "    }\n",
       "\n",
       "    .dataframe tbody tr th {\n",
       "        vertical-align: top;\n",
       "    }\n",
       "\n",
       "    .dataframe thead th {\n",
       "        text-align: right;\n",
       "    }\n",
       "</style>\n",
       "<table border=\"1\" class=\"dataframe\">\n",
       "  <thead>\n",
       "    <tr style=\"text-align: right;\">\n",
       "      <th></th>\n",
       "      <th>review</th>\n",
       "      <th>date</th>\n",
       "      <th>score</th>\n",
       "      <th>helpful</th>\n",
       "      <th>number_of_reviews</th>\n",
       "      <th>number_of_ratings</th>\n",
       "      <th>average_user_score</th>\n",
       "    </tr>\n",
       "  </thead>\n",
       "  <tbody>\n",
       "    <tr>\n",
       "      <th>0</th>\n",
       "      <td>A fun reinvention of the Pokémon formula, hope...</td>\n",
       "      <td>Jan 29, 2022</td>\n",
       "      <td>10</td>\n",
       "      <td>49 of 62 users found this helpful</td>\n",
       "      <td>2 Reviews</td>\n",
       "      <td>2 Ratings</td>\n",
       "      <td>0.0</td>\n",
       "    </tr>\n",
       "    <tr>\n",
       "      <th>1</th>\n",
       "      <td>A fun, challenging (at times), Pokemon game wi...</td>\n",
       "      <td>Jan 30, 2022</td>\n",
       "      <td>10</td>\n",
       "      <td>52 of 72 users found this helpful</td>\n",
       "      <td>60 Reviews</td>\n",
       "      <td>111 Ratings</td>\n",
       "      <td>5.8</td>\n",
       "    </tr>\n",
       "    <tr>\n",
       "      <th>2</th>\n",
       "      <td>El juego más infravalorado de la saga y posibl...</td>\n",
       "      <td>Jan 29, 2022</td>\n",
       "      <td>10</td>\n",
       "      <td>48 of 62 users found this helpful</td>\n",
       "      <td>8 Reviews</td>\n",
       "      <td>12 Ratings</td>\n",
       "      <td>7.2</td>\n",
       "    </tr>\n",
       "    <tr>\n",
       "      <th>3</th>\n",
       "      <td>Best pokemon game of all time! New pokemon, ne...</td>\n",
       "      <td>Jan 30, 2022</td>\n",
       "      <td>10</td>\n",
       "      <td>28 of 35 users found this helpful</td>\n",
       "      <td>1 Review</td>\n",
       "      <td>4 Ratings</td>\n",
       "      <td>5.0</td>\n",
       "    </tr>\n",
       "    <tr>\n",
       "      <th>4</th>\n",
       "      <td>One outstanding experience, that is certain. I...</td>\n",
       "      <td>Feb 3, 2022</td>\n",
       "      <td>10</td>\n",
       "      <td>4 of 8 users found this helpful</td>\n",
       "      <td>1 Review</td>\n",
       "      <td>14 Ratings</td>\n",
       "      <td>9.0</td>\n",
       "    </tr>\n",
       "  </tbody>\n",
       "</table>\n",
       "</div>"
      ],
      "text/plain": [
       "                                              review          date score  \\\n",
       "0  A fun reinvention of the Pokémon formula, hope...  Jan 29, 2022    10   \n",
       "1  A fun, challenging (at times), Pokemon game wi...  Jan 30, 2022    10   \n",
       "2  El juego más infravalorado de la saga y posibl...  Jan 29, 2022    10   \n",
       "3  Best pokemon game of all time! New pokemon, ne...  Jan 30, 2022    10   \n",
       "4  One outstanding experience, that is certain. I...   Feb 3, 2022    10   \n",
       "\n",
       "                             helpful number_of_reviews number_of_ratings  \\\n",
       "0  49 of 62 users found this helpful         2 Reviews         2 Ratings   \n",
       "1  52 of 72 users found this helpful        60 Reviews       111 Ratings   \n",
       "2  48 of 62 users found this helpful         8 Reviews        12 Ratings   \n",
       "3  28 of 35 users found this helpful          1 Review         4 Ratings   \n",
       "4    4 of 8 users found this helpful          1 Review        14 Ratings   \n",
       "\n",
       "  average_user_score  \n",
       "0                0.0  \n",
       "1                5.8  \n",
       "2                7.2  \n",
       "3                5.0  \n",
       "4                9.0  "
      ]
     },
     "execution_count": 180,
     "metadata": {},
     "output_type": "execute_result"
    }
   ],
   "source": [
    "df_loaded.head()"
   ]
  },
  {
   "cell_type": "code",
   "execution_count": 181,
   "id": "ab39fe77-d7b1-4266-b091-847d2eff7153",
   "metadata": {},
   "outputs": [
    {
     "data": {
      "text/html": [
       "<div>\n",
       "<style scoped>\n",
       "    .dataframe tbody tr th:only-of-type {\n",
       "        vertical-align: middle;\n",
       "    }\n",
       "\n",
       "    .dataframe tbody tr th {\n",
       "        vertical-align: top;\n",
       "    }\n",
       "\n",
       "    .dataframe thead th {\n",
       "        text-align: right;\n",
       "    }\n",
       "</style>\n",
       "<table border=\"1\" class=\"dataframe\">\n",
       "  <thead>\n",
       "    <tr style=\"text-align: right;\">\n",
       "      <th></th>\n",
       "      <th>review</th>\n",
       "      <th>date</th>\n",
       "      <th>score</th>\n",
       "      <th>helpful</th>\n",
       "      <th>number_of_reviews</th>\n",
       "      <th>number_of_ratings</th>\n",
       "      <th>average_user_score</th>\n",
       "    </tr>\n",
       "  </thead>\n",
       "  <tbody>\n",
       "    <tr>\n",
       "      <th>1062</th>\n",
       "      <td>Final boss is too cheap, that is not fail at a...</td>\n",
       "      <td>Feb 13, 2022</td>\n",
       "      <td>0</td>\n",
       "      <td>4 of 6 users found this helpful</td>\n",
       "      <td>1 Review</td>\n",
       "      <td>1 Rating</td>\n",
       "      <td>0.0</td>\n",
       "    </tr>\n",
       "    <tr>\n",
       "      <th>1063</th>\n",
       "      <td>Boss fights aren’t thought out properly. Too m...</td>\n",
       "      <td>Feb 14, 2022</td>\n",
       "      <td>0</td>\n",
       "      <td>3 of 4 users found this helpful</td>\n",
       "      <td>1 Review</td>\n",
       "      <td>1 Rating</td>\n",
       "      <td>0.0</td>\n",
       "    </tr>\n",
       "    <tr>\n",
       "      <th>1064</th>\n",
       "      <td>not open world and kinda boring. graphics are ...</td>\n",
       "      <td>Feb 20, 2022</td>\n",
       "      <td>0</td>\n",
       "      <td>3 of 3 users found this helpful</td>\n",
       "      <td>3 Reviews</td>\n",
       "      <td>3 Ratings</td>\n",
       "      <td>0.0</td>\n",
       "    </tr>\n",
       "    <tr>\n",
       "      <th>1065</th>\n",
       "      <td>Schwaches Spiel... (Meiner Meinung nach)Grafik...</td>\n",
       "      <td>Feb 25, 2022</td>\n",
       "      <td>0</td>\n",
       "      <td>2 of 4 users found this helpful</td>\n",
       "      <td>1 Review</td>\n",
       "      <td>1 Rating</td>\n",
       "      <td>0.0</td>\n",
       "    </tr>\n",
       "    <tr>\n",
       "      <th>1066</th>\n",
       "      <td>poikemon es un juego rpg, no es un juego de co...</td>\n",
       "      <td>Feb 28, 2022</td>\n",
       "      <td>0</td>\n",
       "      <td>0 of 0 users found this helpful</td>\n",
       "      <td>1 Review</td>\n",
       "      <td>1 Rating</td>\n",
       "      <td>0.0</td>\n",
       "    </tr>\n",
       "  </tbody>\n",
       "</table>\n",
       "</div>"
      ],
      "text/plain": [
       "                                                 review          date score  \\\n",
       "1062  Final boss is too cheap, that is not fail at a...  Feb 13, 2022     0   \n",
       "1063  Boss fights aren’t thought out properly. Too m...  Feb 14, 2022     0   \n",
       "1064  not open world and kinda boring. graphics are ...  Feb 20, 2022     0   \n",
       "1065  Schwaches Spiel... (Meiner Meinung nach)Grafik...  Feb 25, 2022     0   \n",
       "1066  poikemon es un juego rpg, no es un juego de co...  Feb 28, 2022     0   \n",
       "\n",
       "                              helpful number_of_reviews number_of_ratings  \\\n",
       "1062  4 of 6 users found this helpful          1 Review          1 Rating   \n",
       "1063  3 of 4 users found this helpful          1 Review          1 Rating   \n",
       "1064  3 of 3 users found this helpful         3 Reviews         3 Ratings   \n",
       "1065  2 of 4 users found this helpful          1 Review          1 Rating   \n",
       "1066  0 of 0 users found this helpful          1 Review          1 Rating   \n",
       "\n",
       "     average_user_score  \n",
       "1062                0.0  \n",
       "1063                0.0  \n",
       "1064                0.0  \n",
       "1065                0.0  \n",
       "1066                0.0  "
      ]
     },
     "execution_count": 181,
     "metadata": {},
     "output_type": "execute_result"
    }
   ],
   "source": [
    "df_loaded.tail()"
   ]
  },
  {
   "cell_type": "code",
   "execution_count": null,
   "id": "81202316-c74b-4664-a54c-2857227e421e",
   "metadata": {},
   "outputs": [],
   "source": []
  }
 ],
 "metadata": {
  "kernelspec": {
   "display_name": "Python 3 (ipykernel)",
   "language": "python",
   "name": "python3"
  },
  "language_info": {
   "codemirror_mode": {
    "name": "ipython",
    "version": 3
   },
   "file_extension": ".py",
   "mimetype": "text/x-python",
   "name": "python",
   "nbconvert_exporter": "python",
   "pygments_lexer": "ipython3",
   "version": "3.7.7"
  }
 },
 "nbformat": 4,
 "nbformat_minor": 5
}
